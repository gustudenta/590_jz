{
 "cells": [
  {
   "cell_type": "code",
   "execution_count": 2,
   "metadata": {
    "id": "jS47B8K0JLkx"
   },
   "outputs": [],
   "source": [
    "import tensorflow as tf\n",
    "import tensorflow.keras as tfk\n",
    "import tensorflow.keras.layers as tfkl\n",
    "import numpy as np\n",
    "import matplotlib.pyplot as plt"
   ]
  },
  {
   "cell_type": "markdown",
   "metadata": {
    "id": "iehoGWa6SSWU"
   },
   "source": [
    "### regression\n",
    "\n",
    "Let's start by using `keras` to make a neural network for a simple regression task where both the input and the output as 1-dimensional. Below is some code that will produce the dataset for you to train on.\n",
    "\n",
    "Here are some general steps to follow:\n",
    "1. Define your model by passing `tfk.Sequential` a list of layers (found in `tf.keras.layers`, which is already imported for you by the shorter name `tfkl`, since you will use this module many times.\n",
    "2. Your first layers should be a `tfkl.Input` layer that specifies the shape of the input (it will automatically include an empty first dimension with size `None` as a placehold for the batch size).\n",
    "3. The rest of your layers should be `tfkl.Dense` layers; you will be to specify the number of neurons/units as well as the activation function (you can find those in `tf.nn`, and you can use `None` for a \"linear\" activation function, $f(x)=x$). Make sure you pick an output function that makes sense for this prediction task!\n",
    "4. Choose an appropriate optimizer from `tfk.optimizers` and an appropriate loss function from `tfk.losses` (both are classes that wil need to be initialized), and then pass them to `model.compile` to compile your model.\n",
    "5. Call `model.fit` to fit your model and collect the results\n",
    "6. Plot your training curve (loss vs training step)\n",
    "7. Call your model (`model(...)`) on a grid of inputs (code to make the grid provided) and plot the relationship your model learned against the true relationship (defined as `f` in the code below)."
   ]
  },
  {
   "cell_type": "code",
   "execution_count": 7,
   "metadata": {},
   "outputs": [
    {
     "data": {
      "image/png": "[encoded data removed]",
      "text/plain": [
       "<Figure size 432x288 with 1 Axes>"
      ]
     },
     "metadata": {
      "needs_background": "light"
     },
     "output_type": "display_data"
    }
   ],
   "source": [
    "def regression_data(N):\n",
    "    x = np.random.uniform(low=-5.0, high=5.0, size=(N, 1)).astype(np.float32)\n",
    "    e = 0.2 * np.random.normal(size=(N, 1)).astype(np.float32)\n",
    "    f = lambda x: 0.2 * x**2 * np.sin(2 * np.pi * x / 6)\n",
    "    y = f(x) + e\n",
    "    return x, y\n",
    "\n",
    "N = 100\n",
    "x_train,y_train =  regression_data(100)\n",
    "x_test,y_test = regression_data(100)\n",
    "\n",
    "plt.scatter(x, y, s=10)\n",
    "plt.show()"
   ]
  },
  {
   "cell_type": "code",
   "execution_count": 10,
   "metadata": {},
   "outputs": [
    {
     "name": "stdout",
     "output_type": "stream",
     "text": [
      "Model: \"sequential_2\"\n",
      "_________________________________________________________________\n",
      "Layer (type)                 Output Shape              Param #   \n",
      "=================================================================\n",
      "dense_6 (Dense)              (None, 100)               200       \n",
      "_________________________________________________________________\n",
      "dense_7 (Dense)              (None, 20)                2020      \n",
      "_________________________________________________________________\n",
      "dense_8 (Dense)              (None, 1)                 21        \n",
      "=================================================================\n",
      "Total params: 2,241\n",
      "Trainable params: 2,241\n",
      "Non-trainable params: 0\n",
      "_________________________________________________________________\n",
      "Train for 100 steps, validate for 1 steps\n",
      "Epoch 1/10000\n",
      "100/100 [==============================] - 0s 3ms/step - loss: 1.9855 - val_loss: 1.5660\n",
      "Epoch 2/10000\n",
      "100/100 [==============================] - 0s 954us/step - loss: 1.4758 - val_loss: 1.2801\n",
      "Epoch 3/10000\n",
      "100/100 [==============================] - 0s 949us/step - loss: 1.1269 - val_loss: 0.8339\n",
      "Epoch 4/10000\n",
      "100/100 [==============================] - 0s 1ms/step - loss: 0.5682 - val_loss: 0.3623\n",
      "Epoch 5/10000\n",
      "100/100 [==============================] - 0s 1ms/step - loss: 0.2233 - val_loss: 0.1910\n",
      "Epoch 6/10000\n",
      "100/100 [==============================] - 0s 911us/step - loss: 0.1215 - val_loss: 0.1196\n",
      "Epoch 7/10000\n",
      "100/100 [==============================] - 0s 894us/step - loss: 0.0794 - val_loss: 0.0822\n",
      "Epoch 8/10000\n",
      "100/100 [==============================] - 0s 953us/step - loss: 0.0583 - val_loss: 0.0646\n",
      "Epoch 9/10000\n",
      "100/100 [==============================] - 0s 1ms/step - loss: 0.0486 - val_loss: 0.0564\n",
      "Epoch 10/10000\n",
      "100/100 [==============================] - 0s 1ms/step - loss: 0.0438 - val_loss: 0.0520\n",
      "Epoch 11/10000\n",
      "100/100 [==============================] - 0s 901us/step - loss: 0.0410 - val_loss: 0.0490\n",
      "Epoch 12/10000\n",
      "100/100 [==============================] - 0s 900us/step - loss: 0.0389 - val_loss: 0.0467\n"
     ]
    }
   ],
   "source": [
    "a=tf.nn.relu\n",
    "model=tfk.Sequential([\n",
    "    tfkl.Input((1,)),\n",
    "    tfkl.Dense(100,activation=a),\n",
    "    tfkl.Dense(20,activation=a),\n",
    "    tfkl.Dense(1,activation=None)\n",
    "])\n",
    "\n",
    "model.summary()\n",
    "\n",
    "cbs=[tfk.callbacks.EarlyStopping(min_delta=0.01, patience=2)]\n",
    "\n",
    "ds_train =tf.data.Dataset.from_tensor_slices((x_train,y_train)).batch(32).repeat().prefetch(10)\n",
    "ds_test =tf.data.Dataset.from_tensor_slices((x_train,y_train)).batch(100).repeat().prefetch(10)\n",
    "\n",
    "loss=tfk.losses.MeanSquaredError()\n",
    "opt=tfk.optimizers.Adam()\n",
    "model.compile(opt,loss)\n",
    "\n",
    "results=model.fit(ds_train,steps_per_epoch=100, epochs=10000, callbacks=cbs, validation_data=ds_test, validation_steps=1)"
   ]
  },
  {
   "cell_type": "code",
   "execution_count": 11,
   "metadata": {},
   "outputs": [
    {
     "data": {
      "text/plain": [
       "[<matplotlib.lines.Line2D at 0x13e9ae748>]"
      ]
     },
     "execution_count": 11,
     "metadata": {},
     "output_type": "execute_result"
    },
    {
     "data": {
      "image/png": "[encoded data removed]",
      "text/plain": [
       "<Figure size 432x288 with 1 Axes>"
      ]
     },
     "metadata": {
      "needs_background": "light"
     },
     "output_type": "display_data"
    }
   ],
   "source": [
    "plt.plot(results.history['loss'])\n",
    "plt.plot(results.history['val_loss'])"
   ]
  },
  {
   "cell_type": "code",
   "execution_count": 12,
   "metadata": {
    "id": "pULO0BniMAL2"
   },
   "outputs": [
    {
     "data": {
      "text/plain": [
       "<matplotlib.legend.Legend at 0x13f46e320>"
      ]
     },
     "execution_count": 12,
     "metadata": {},
     "output_type": "execute_result"
    },
    {
     "data": {
      "image/png": "[encoded data removed]",
      "text/plain": [
       "<Figure size 432x288 with 1 Axes>"
      ]
     },
     "metadata": {
      "needs_background": "light"
     },
     "output_type": "display_data"
    }
   ],
   "source": [
    "f = lambda x: 0.2 * x**2 * np.sin(2 * np.pi * x / 6)\n",
    "x_grid = np.linspace(x.min(), x.max(), 200).astype(np.float32)[:, np.newaxis]\n",
    "y_true = f(x_grid)\n",
    "# your code here\n",
    "y_hat = model(x_grid)\n",
    "\n",
    "plt.scatter(x,y,s=10)\n",
    "plt.plot([],[])\n",
    "plt.plot(x_grid, y_true,label = \"true\")\n",
    "plt.plot(x_grid, y_hat,label = \"hat\")\n",
    "plt.legend()"
   ]
  },
  {
   "cell_type": "code",
   "execution_count": null,
   "metadata": {},
   "outputs": [],
   "source": []
  },
  {
   "cell_type": "markdown",
   "metadata": {
    "id": "Dc59MczHVrc9"
   },
   "source": [
    "### binary classification\n",
    "\n",
    "Here is another dataset that differs in two key ways from the regression example we just worked:\n",
    "1. The input is now 2-dimensional\n",
    "2. The targets are now binary classes\n",
    "\n",
    "Update your model to handle both of these changes and try fitting this new data. Think about the following:\n",
    "- input shape\n",
    "- output function\n",
    "- loss function\n",
    "\n",
    "Since visualizing the results is a bit tricky, we have provided some code for that."
   ]
  },
  {
   "cell_type": "code",
   "execution_count": 13,
   "metadata": {
    "id": "NMg8n9NRGo_9"
   },
   "outputs": [
    {
     "data": {
      "image/png": "[encoded data removed]",
      "text/plain": [
       "<Figure size 504x504 with 1 Axes>"
      ]
     },
     "metadata": {
      "needs_background": "light"
     },
     "output_type": "display_data"
    }
   ],
   "source": [
    "N = 200\n",
    "def binary_classification_data(N):\n",
    "    x = np.random.uniform(low=-5, high=5, size=(N, 2))\n",
    "    y = (x[:, 0] * x[:, 1] > 0).astype(np.int)\n",
    "    return x, y\n",
    "\n",
    "x_train, y_train = binary_classification_data(N)\n",
    "x_test, y_test = binary_classification_data(N)\n",
    "\n",
    "plt.figure(figsize=(7, 7))\n",
    "plt.scatter(x_train[:, 0], x_train[:, 1], s=10, c=y_train, cmap='coolwarm')\n",
    "plt.show()"
   ]
  },
  {
   "cell_type": "code",
   "execution_count": 14,
   "metadata": {
    "id": "t4P6Ez3VJzQk"
   },
   "outputs": [
    {
     "name": "stdout",
     "output_type": "stream",
     "text": [
      "Model: \"sequential_3\"\n",
      "_________________________________________________________________\n",
      "Layer (type)                 Output Shape              Param #   \n",
      "=================================================================\n",
      "dense_9 (Dense)              (None, 100)               300       \n",
      "_________________________________________________________________\n",
      "dense_10 (Dense)             (None, 20)                2020      \n",
      "_________________________________________________________________\n",
      "dense_11 (Dense)             (None, 1)                 21        \n",
      "=================================================================\n",
      "Total params: 2,341\n",
      "Trainable params: 2,341\n",
      "Non-trainable params: 0\n",
      "_________________________________________________________________\n",
      "Train for 100 steps, validate for 1 steps\n",
      "Epoch 1/10000\n",
      "100/100 [==============================] - 1s 6ms/step - loss: 0.5697 - val_loss: 0.4231\n",
      "Epoch 2/10000\n",
      "100/100 [==============================] - 0s 1ms/step - loss: 0.3014 - val_loss: 0.2158\n",
      "Epoch 3/10000\n",
      "100/100 [==============================] - 0s 1ms/step - loss: 0.1885 - val_loss: 0.1418\n",
      "Epoch 4/10000\n",
      "100/100 [==============================] - 0s 1ms/step - loss: 0.1437 - val_loss: 0.1092\n",
      "Epoch 5/10000\n",
      "100/100 [==============================] - 0s 1ms/step - loss: 0.1164 - val_loss: 0.0856\n",
      "Epoch 6/10000\n",
      "100/100 [==============================] - 0s 1ms/step - loss: 0.0967 - val_loss: 0.0687\n",
      "Epoch 7/10000\n",
      "100/100 [==============================] - 0s 1ms/step - loss: 0.0803 - val_loss: 0.0588\n",
      "Epoch 8/10000\n",
      "100/100 [==============================] - 0s 979us/step - loss: 0.0678 - val_loss: 0.0501\n",
      "Epoch 9/10000\n",
      "100/100 [==============================] - 0s 1ms/step - loss: 0.0597 - val_loss: 0.0422\n",
      "Epoch 10/10000\n",
      "100/100 [==============================] - 0s 1ms/step - loss: 0.0511 - val_loss: 0.0370\n",
      "Epoch 11/10000\n",
      "100/100 [==============================] - 0s 1ms/step - loss: 0.0445 - val_loss: 0.0330\n",
      "Epoch 12/10000\n",
      "100/100 [==============================] - 0s 1ms/step - loss: 0.0397 - val_loss: 0.0284\n"
     ]
    }
   ],
   "source": [
    "a = tf.nn.softplus\n",
    "\n",
    "model = tfk.Sequential([\n",
    "    tfkl.Input((2,)),\n",
    "    tfkl.Dense(100, activation = a),\n",
    "    tfkl.Dense(20, activation = a),\\\n",
    "    tfkl.Dense(1,activation = tf.nn.sigmoid)\n",
    "])\n",
    "\n",
    "model.summary()\n",
    "\n",
    "model.compile(optimizer = tfk.optimizers.Adam(), loss = tfk.losses.BinaryCrossentropy())\n",
    "\n",
    "ds_train =tf.data.Dataset.from_tensor_slices((x_train,y_train)).batch(32).repeat().prefetch(10)\n",
    "ds_test =tf.data.Dataset.from_tensor_slices((x_train,y_train)).batch(100).repeat().prefetch(10)\n",
    "\n",
    "\n",
    "cbs=[tfk.callbacks.EarlyStopping(min_delta=0.01, patience=2)]\n",
    "\n",
    "\n",
    "result=model.fit(ds_train,steps_per_epoch=100, epochs=10000, \n",
    "                 callbacks=cbs, validation_data=ds_test, validation_steps=1)\n"
   ]
  },
  {
   "cell_type": "code",
   "execution_count": 15,
   "metadata": {
    "id": "5ZUclc8PKqEC"
   },
   "outputs": [
    {
     "name": "stdout",
     "output_type": "stream",
     "text": [
      "WARNING:tensorflow:Model was constructed with shape Tensor(\"input_4:0\", shape=(None, 2), dtype=float32) for input (None, 2), but it was re-called on a Tensor with incompatible shape (100, 100, 2).\n",
      "WARNING:tensorflow:Layer dense_9 is casting an input tensor from dtype float64 to the layer's dtype of float32, which is new behavior in TensorFlow 2.  The layer has dtype float32 because it's dtype defaults to floatx.\n",
      "\n",
      "If you intended to run this layer in float32, you can safely ignore this warning. If in doubt, this warning is likely only an issue if you are porting a TensorFlow 1.X model to TensorFlow 2.\n",
      "\n",
      "To change all layers to have dtype float64 by default, call `tf.keras.backend.set_floatx('float64')`. To change just this layer, pass dtype='float64' to the layer constructor. If you are the author of this layer, you can disable autocasting by passing autocast=False to the base Layer constructor.\n",
      "\n"
     ]
    },
    {
     "data": {
      "image/png": "[encoded data removed]",
      "text/plain": [
       "<Figure size 432x288 with 2 Axes>"
      ]
     },
     "metadata": {
      "needs_background": "light"
     },
     "output_type": "display_data"
    }
   ],
   "source": [
    "def binary_preds(model, x_minmax=5):\n",
    "  x_grid = np.linspace(-x_minmax, x_minmax, 100)\n",
    "  mesh = np.meshgrid(x_grid, x_grid)\n",
    "  xs_grid = np.stack(mesh, axis=-1)\n",
    "  yhat = model(xs_grid).numpy().squeeze()\n",
    "\n",
    "\n",
    "  plt.imshow(yhat, cmap='coolwarm')\n",
    "  plt.colorbar()\n",
    "\n",
    "binary_preds(model)"
   ]
  },
  {
   "cell_type": "markdown",
   "metadata": {
    "id": "f6NPT8dsWWXW"
   },
   "source": [
    "### general classfication\n",
    "\n",
    "Finally we will download and train on some real data to learn about general classification. Here is some code that will download and show some metadata about the MNIST dataset -- a collectin of handwritten digits.\n",
    "\n",
    "Update your model to work on this data so that you model can predict the digit from its image. One new thing to keep in mind: these inputs are 2D. Later in the course we will learn about convolutional neural nets for handing such inputs more naturally, but for now, update your `tfkl.Input` layer to be 2-dimensional and then add a `tfkl.Flatten()` layer right after it to unravel the 2-d image into a 1-d vector of pixels.\n",
    "\n",
    "Again, visualalizing the output is a bit tricky, so we have provided some code to help."
   ]
  },
  {
   "cell_type": "code",
   "execution_count": 16,
   "metadata": {
    "id": "TQl7DZmBNvm_"
   },
   "outputs": [
    {
     "name": "stdout",
     "output_type": "stream",
     "text": [
      "tfds.core.DatasetInfo(\n",
      "    name='mnist',\n",
      "    version=3.0.1,\n",
      "    description='The MNIST database of handwritten digits.',\n",
      "    homepage='http://yann.lecun.com/exdb/mnist/',\n",
      "    features=FeaturesDict({\n",
      "        'image': Image(shape=(28, 28, 1), dtype=tf.uint8),\n",
      "        'label': ClassLabel(shape=(), dtype=tf.int64, num_classes=10),\n",
      "    }),\n",
      "    total_num_examples=70000,\n",
      "    splits={\n",
      "        'test': 10000,\n",
      "        'train': 60000,\n",
      "    },\n",
      "    supervised_keys=('image', 'label'),\n",
      "    citation=\"\"\"@article{lecun2010mnist,\n",
      "      title={MNIST handwritten digit database},\n",
      "      author={LeCun, Yann and Cortes, Corinna and Burges, CJ},\n",
      "      journal={ATT Labs [Online]. Available: http://yann.lecun.com/exdb/mnist},\n",
      "      volume={2},\n",
      "      year={2010}\n",
      "    }\"\"\",\n",
      "    redistribution_info=,\n",
      ")\n",
      "\n"
     ]
    }
   ],
   "source": [
    "import tensorflow_datasets as tfds\n",
    "\n",
    "ds, metadata = tfds.load('mnist', with_info=True)\n",
    "print(metadata)"
   ]
  },
  {
   "cell_type": "code",
   "execution_count": 17,
   "metadata": {
    "id": "bKre0z2HOCDm"
   },
   "outputs": [
    {
     "name": "stdout",
     "output_type": "stream",
     "text": [
      "Model: \"sequential_4\"\n",
      "_________________________________________________________________\n",
      "Layer (type)                 Output Shape              Param #   \n",
      "=================================================================\n",
      "flatten (Flatten)            (None, 784)               0         \n",
      "_________________________________________________________________\n",
      "dense_12 (Dense)             (None, 100)               78500     \n",
      "_________________________________________________________________\n",
      "dense_13 (Dense)             (None, 20)                2020      \n",
      "_________________________________________________________________\n",
      "dense_14 (Dense)             (None, 10)                210       \n",
      "=================================================================\n",
      "Total params: 80,730\n",
      "Trainable params: 80,730\n",
      "Non-trainable params: 0\n",
      "_________________________________________________________________\n",
      "Train for 100 steps, validate for 1 steps\n",
      "Epoch 1/1000\n",
      "100/100 [==============================] - 1s 7ms/step - loss: 1.3346 - val_loss: 0.5982\n",
      "Epoch 2/1000\n",
      "100/100 [==============================] - 1s 6ms/step - loss: 0.5369 - val_loss: 0.4200\n",
      "Epoch 3/1000\n",
      "100/100 [==============================] - 1s 6ms/step - loss: 0.4226 - val_loss: 0.3597\n",
      "Epoch 4/1000\n",
      "100/100 [==============================] - 1s 6ms/step - loss: 0.3614 - val_loss: 0.3400\n",
      "Epoch 5/1000\n",
      "100/100 [==============================] - 0s 5ms/step - loss: 0.3265 - val_loss: 0.2962\n",
      "Epoch 6/1000\n",
      "100/100 [==============================] - 0s 5ms/step - loss: 0.3160 - val_loss: 0.2887\n"
     ]
    }
   ],
   "source": [
    "a=tf.nn.softplus\n",
    "model=tfk.Sequential([\n",
    "    tfkl.Input((28,28,1,)),\n",
    "    tfkl.Flatten(),\n",
    "    tfkl.Dense(100,activation=a),\n",
    "    tfkl.Dense(20,activation=a),\n",
    "    tfkl.Dense(10,activation=tf.nn.softmax)\n",
    "])\n",
    "model.summary()\n",
    "cbs=[tfk.callbacks.EarlyStopping(min_delta=0.01, patience=1)]\n",
    "\n",
    "preprocess = lambda d: (tf.cast(d['image'], tf.float32)/255., d['label'])\n",
    "ds_train =ds['train'].map(preprocess).cache().batch(32).repeat().prefetch(10)\n",
    "ds_test =ds['test'].take(1000).map(preprocess).batch(1000).repeat().prefetch(10)\n",
    "\n",
    "loss=tfk.losses.SparseCategoricalCrossentropy() \n",
    "opt=tfk.optimizers.Adam()\n",
    "\n",
    "model.compile(opt,loss)\n",
    "\n",
    "result=model.fit(ds_train,validation_data = ds_test,\n",
    "                 validation_steps = 1, steps_per_epoch=100, epochs=1000, callbacks=cbs)\n"
   ]
  },
  {
   "cell_type": "code",
   "execution_count": 18,
   "metadata": {
    "id": "oJ17dcdQOt_w"
   },
   "outputs": [
    {
     "data": {
      "image/png": "[encoded data removed]",
      "text/plain": [
       "<Figure size 720x2880 with 2 Axes>"
      ]
     },
     "metadata": {
      "needs_background": "light"
     },
     "output_type": "display_data"
    },
    {
     "data": {
      "image/png": "[encoded data removed]",
      "text/plain": [
       "<Figure size 432x288 with 2 Axes>"
      ]
     },
     "metadata": {
      "needs_background": "light"
     },
     "output_type": "display_data"
    },
    {
     "data": {
      "image/png": "[encoded data removed]",
      "text/plain": [
       "<Figure size 432x288 with 2 Axes>"
      ]
     },
     "metadata": {
      "needs_background": "light"
     },
     "output_type": "display_data"
    },
    {
     "data": {
      "image/png": "[encoded data removed]",
      "text/plain": [
       "<Figure size 432x288 with 2 Axes>"
      ]
     },
     "metadata": {
      "needs_background": "light"
     },
     "output_type": "display_data"
    },
    {
     "data": {
      "image/png": "[encoded data removed]",
      "text/plain": [
       "<Figure size 432x288 with 2 Axes>"
      ]
     },
     "metadata": {
      "needs_background": "light"
     },
     "output_type": "display_data"
    },
    {
     "data": {
      "image/png": "[encoded data removed]",
      "text/plain": [
       "<Figure size 432x288 with 2 Axes>"
      ]
     },
     "metadata": {
      "needs_background": "light"
     },
     "output_type": "display_data"
    },
    {
     "data": {
      "image/png": "[encoded data removed]",
      "text/plain": [
       "<Figure size 432x288 with 2 Axes>"
      ]
     },
     "metadata": {
      "needs_background": "light"
     },
     "output_type": "display_data"
    },
    {
     "data": {
      "image/png": "[encoded data removed]",
      "text/plain": [
       "<Figure size 432x288 with 2 Axes>"
      ]
     },
     "metadata": {
      "needs_background": "light"
     },
     "output_type": "display_data"
    },
    {
     "data": {
      "image/png": "[encoded data removed]",
      "text/plain": [
       "<Figure size 432x288 with 2 Axes>"
      ]
     },
     "metadata": {
      "needs_background": "light"
     },
     "output_type": "display_data"
    },
    {
     "data": {
      "image/png": "[encoded data removed]",
      "text/plain": [
       "<Figure size 432x288 with 2 Axes>"
      ]
     },
     "metadata": {
      "needs_background": "light"
     },
     "output_type": "display_data"
    }
   ],
   "source": [
    "def mnist_viz(model):\n",
    "    ims, labels = next(iter(ds['test'].map(preprocess).batch(10)))\n",
    "    yhat = model(ims)\n",
    "    ypred = tf.argmax(yhat)\n",
    "\n",
    "    plt.figure(figsize=(10, 40))\n",
    "    for i in range(10):\n",
    "        plt.subplot(10, 2, 2*i+1)\n",
    "        plt.imshow(ims[i].numpy().squeeze(), cmap='bone')\n",
    "        plt.subplot(10, 2, 2*i+2)\n",
    "        plt.bar(np.arange(10), yhat[i].numpy())\n",
    "        plt.ylim([0, 1])\n",
    "        plt.show()\n",
    "\n",
    "# your code here\n",
    "mnist_viz(model)"
   ]
  },
  {
   "cell_type": "code",
   "execution_count": null,
   "metadata": {},
   "outputs": [],
   "source": []
  }
 ],
 "metadata": {
  "accelerator": "TPU",
  "colab": {
   "name": "Copy of keras-lab.ipynb",
   "provenance": []
  },
  "kernelspec": {
   "display_name": "Python 3",
   "language": "python",
   "name": "python3"
  },
  "language_info": {
   "codemirror_mode": {
    "name": "ipython",
    "version": 3
   },
   "file_extension": ".py",
   "mimetype": "text/x-python",
   "name": "python",
   "nbconvert_exporter": "python",
   "pygments_lexer": "ipython3",
   "version": "3.7.3"
  }
 },
 "nbformat": 4,
 "nbformat_minor": 1
}
